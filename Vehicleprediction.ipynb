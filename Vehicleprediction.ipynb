{
 "cells": [
  {
   "cell_type": "code",
   "execution_count": 25,
   "metadata": {},
   "outputs": [],
   "source": [
    "from sklearn import linear_model\n",
    "import pandas as pd\n",
    "import tkinter as tk\n",
    "\n",
    "\n"
   ]
  },
  {
   "cell_type": "code",
   "execution_count": 26,
   "metadata": {},
   "outputs": [],
   "source": [
    "df=pd.read_csv(r\"C:\\Users\\HP\\Downloads\\data.csv\")\n"
   ]
  },
  {
   "cell_type": "code",
   "execution_count": 27,
   "metadata": {},
   "outputs": [],
   "source": [
    "df.fillna(0, inplace=True)"
   ]
  },
  {
   "cell_type": "code",
   "execution_count": 28,
   "metadata": {},
   "outputs": [
    {
     "data": {
      "text/plain": [
       "LinearRegression()"
      ]
     },
     "execution_count": 28,
     "metadata": {},
     "output_type": "execute_result"
    }
   ],
   "source": [
    "X=df[['year','weight','horsepower','displacement','cylinders','origin']]\n",
    "Y=df['Kilometer_per_liter']\n",
    "\n",
    "from sklearn.linear_model import LinearRegression \n",
    "regr =LinearRegression()\n",
    "regr.fit(X, Y)\n",
    "\n"
   ]
  },
  {
   "cell_type": "code",
   "execution_count": 33,
   "metadata": {},
   "outputs": [],
   "source": [
    "root=tk.Tk()\n",
    "\n",
    "canvas1 = tk.Canvas(root, width = 500, height = 300)\n",
    "canvas1.pack()\n",
    "\n",
    "label1 = tk.Label(root, text='Year')\n",
    "canvas1.create_window(100, 100, window=label1)\n",
    "entry1 = tk.Entry (root) # create 1st entry box\n",
    "canvas1.create_window(270, 100, window=entry1)\n",
    "\n",
    "\n",
    "label2 = tk.Label(root, text='Weight')\n",
    "canvas1.create_window(100, 120, window=label2)\n",
    "entry2 = tk.Entry (root) # create 1st entry box\n",
    "canvas1.create_window(270, 120, window=entry2)\n",
    "\n",
    "\n",
    "label3 = tk.Label(root, text='Horsepower')\n",
    "canvas1.create_window(100, 140, window=label3)\n",
    "entry3 = tk.Entry (root) # create 1st entry box\n",
    "canvas1.create_window(270, 140, window=entry3)\n",
    "\n",
    "\n",
    "label4 = tk.Label(root, text='Displacement')\n",
    "canvas1.create_window(100, 160, window=label4)\n",
    "entry4 = tk.Entry (root) # create 1st entry box\n",
    "canvas1.create_window(270, 160, window=entry4)\n",
    "\n",
    "label5 = tk.Label(root, text='Cylinders')\n",
    "canvas1.create_window(100, 180, window=label5)\n",
    "entry5 = tk.Entry (root) # create 1st entry box\n",
    "canvas1.create_window(270, 180, window=entry5)\n",
    "\n",
    "label6 = tk.Label(root, text='Origin')\n",
    "canvas1.create_window(100, 200, window=label6)\n",
    "entry6 = tk.Entry (root) # create 1st entry box\n",
    "canvas1.create_window(270, 200, window=entry6)\n",
    "\n",
    "def values():\n",
    "    global year #our 1st input variable\n",
    "    year = int(entry1.get()) \n",
    "    global weight #our 1st input variable\n",
    "    weight = int(entry2.get())\n",
    "    global hp #our 1st input variable\n",
    "    hp = int(entry3.get())\n",
    "    global disp #our 1st input variable\n",
    "    disp = int(entry4.get())\n",
    "    global cylin #our 1st input variable\n",
    "    cylin = int(entry5.get())\n",
    "    global origin #our 1st input variable\n",
    "    origin = int(entry6.get())\n",
    "    \n",
    "    \n",
    "    \n",
    "    \n",
    "    #'year','weight','horsepower','displacement','cylinders','origin'\n",
    "    \n",
    "    Prediction_result  = ('Predicted Mileage(Kilometer_per_liter): ', regr.predict([[year,weight,hp,disp,cylin,origin]]))\n",
    "    label_Prediction = tk.Label(root, text= Prediction_result, bg='yellow')\n",
    "    canvas1.create_window(260, 280, window=label_Prediction)\n",
    "    \n",
    "button1 = tk.Button (root, text='Predict Mileage',command=values, bg='green') # button to call the 'values' command above \n",
    "canvas1.create_window(270, 230, window=button1)\n",
    "\n",
    "root.mainloop()"
   ]
  },
  {
   "cell_type": "code",
   "execution_count": null,
   "metadata": {},
   "outputs": [],
   "source": []
  }
 ],
 "metadata": {
  "kernelspec": {
   "display_name": "Python 3",
   "language": "python",
   "name": "python3"
  },
  "language_info": {
   "codemirror_mode": {
    "name": "ipython",
    "version": 3
   },
   "file_extension": ".py",
   "mimetype": "text/x-python",
   "name": "python",
   "nbconvert_exporter": "python",
   "pygments_lexer": "ipython3",
   "version": "3.8.5"
  }
 },
 "nbformat": 4,
 "nbformat_minor": 4
}
